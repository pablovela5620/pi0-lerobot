{
 "cells": [
  {
   "cell_type": "code",
   "execution_count": 6,
   "metadata": {},
   "outputs": [],
   "source": [
    "from icecream import ic\n",
    "import torch\n",
    "from huggingface_hub import HfApi\n",
    "\n",
    "import lerobot\n",
    "from lerobot.common.datasets.lerobot_dataset import LeRobotDataset, LeRobotDatasetMetadata"
   ]
  },
  {
   "cell_type": "code",
   "execution_count": 12,
   "metadata": {},
   "outputs": [
    {
     "name": "stderr",
     "output_type": "stream",
     "text": [
      "ic| available_datasets[:10]: ['lerobot/aloha_mobile_cabinet',\n",
      "                              'lerobot/aloha_mobile_chair',\n",
      "                              'lerobot/aloha_mobile_elevator',\n",
      "                              'lerobot/aloha_mobile_shrimp',\n",
      "                              'lerobot/aloha_mobile_wash_pan',\n",
      "                              'lerobot/aloha_mobile_wipe_wine',\n",
      "                              'lerobot/aloha_sim_insertion_human',\n",
      "                              'lerobot/aloha_sim_insertion_human_image',\n",
      "                              'lerobot/aloha_sim_insertion_scripted',\n",
      "                              'lerobot/aloha_sim_insertion_scripted_image']\n",
      "ic| type(available_datasets[0]): <class 'str'>\n"
     ]
    },
    {
     "name": "stdout",
     "output_type": "stream",
     "text": [
      "List of available datasets:\n"
     ]
    }
   ],
   "source": [
    "# We ported a number of existing datasets ourselves, use this to see the list:\n",
    "print(\"List of available datasets:\")\n",
    "available_datasets: list[str] = lerobot.available_datasets\n",
    "# get the first ten\n",
    "ic(available_datasets[:10])\n",
    "ic(type(available_datasets[0]))\n",
    "\n",
    "# You can also browse through the datasets created/ported by the community on the hub using the hub api:\n",
    "hub_api = HfApi()\n",
    "repo_ids = [info.id for info in hub_api.list_datasets(task_categories=\"robotics\", tags=[\"LeRobot\"])]"
   ]
  },
  {
   "cell_type": "code",
   "execution_count": null,
   "metadata": {},
   "outputs": [],
   "source": []
  }
 ],
 "metadata": {
  "kernelspec": {
   "display_name": "default",
   "language": "python",
   "name": "python3"
  },
  "language_info": {
   "codemirror_mode": {
    "name": "ipython",
    "version": 3
   },
   "file_extension": ".py",
   "mimetype": "text/x-python",
   "name": "python",
   "nbconvert_exporter": "python",
   "pygments_lexer": "ipython3",
   "version": "3.11.0"
  }
 },
 "nbformat": 4,
 "nbformat_minor": 2
}
